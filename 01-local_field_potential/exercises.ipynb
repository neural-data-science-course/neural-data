{
 "cells": [
  {
   "cell_type": "markdown",
   "metadata": {},
   "source": [
    "# Exercises"
   ]
  },
  {
   "cell_type": "markdown",
   "metadata": {},
   "source": [
    "## Exercise 1: explore filter parameters\n",
    "---\n",
    "In this exercises you will explore how different parameters affect the filtering process.\n",
    "- Import the data form `data/moving_lfp.pickle` (the file is already on your machine if you run the `download_data()` cell in the main lesson)\n",
    "- Take a few seconds of the data, and filter them in different frequency bands. Plot the resulting singal.\n",
    "  Fix the central frequency and play with the width of the band, then try to change the central frequency of the band.\n",
    "- Change the order of the filter, keeping the frequency band fixed. How does the filtered signal change? How does the computing time change? (You can try to quantify the computing time with the jupyter magic command [`%timeit`](https://docs.python.org/3/library/timeit.html) )\n",
    "- Comment on what you see"
   ]
  },
  {
   "cell_type": "markdown",
   "metadata": {},
   "source": [
    "## Exercise 2: wavelet transform with real wavelets\n",
    "---\n",
    "In this exercises you will explore the difference between real and complex wavelets in the continous wavelet transform.\n",
    "- Import the data form `data/moving_lfp.pickle`\n",
    "- Select a period of a few seconds of the signal and compute the spectrogram. \n",
    "  Try the wavelet transform with wavelet `mexh` (mexican hat),`gaus` (gaussian) and `morl` (morlet). These are all real wavelets.\n",
    "- What differences do you see with respect to the spectrum computed with the complex Morlet tranform ? Comment on why do you think this might be the case."
   ]
  },
  {
   "cell_type": "markdown",
   "metadata": {},
   "source": [
    "## Exercise 3: REM sleep detection\n",
    "---\n",
    "Mammalian sleep is organized in different phases. [Rapid Eye Movement (REM) sleep](https://en.wikipedia.org/wiki/Rapid_eye_movement_sleep) is a well studied phase, with clear markers that make it detectable from LFP data. One of the most used marker is the ratio (or difference) between the oscillatory power in the theta and delta bands in the hippocampus. During REM sleep, the former dominates, in a pattern that resembles active behaviour.  \n",
    "In this exercise we will use the tools we learned about to detect and inspect the REM and non-REM (nREM) phases of sleep in data recorded from the hippocampus of a sleeping mouse.\n",
    "\n",
    "- Import the data form `data/sleep_lfp.pickle`\n",
    "- Compute the instantaneous power in the theta (6-10 Hz) and delta (2-4 Hz) frequency bands, for the whole signal.\n",
    "- z-score the two power signals (subtract the mean and divide by the standard deviation, you can use `scipy.stats.zscore()`)\n",
    "- Compute and plot the power difference (`theta_power - delta_power`) for the sleep session.\n",
    "- Compute the REM (power difference $>0.2$) and nREM (power diffewrence $<0.2$) sleep periods.\n",
    "- Plot examples of REM vs nREM lfp signals (wideband filtered betw. 1 and 200 Hz to get rid of some of the noise).\n",
    "- Explore how changing the threshold affects the amount of REM sleep detected."
   ]
  },
  {
   "cell_type": "code",
   "execution_count": null,
   "metadata": {},
   "outputs": [],
   "source": []
  }
 ],
 "metadata": {
  "kernelspec": {
   "display_name": "Python 3 (ipykernel)",
   "language": "python",
   "name": "python3"
  },
  "language_info": {
   "codemirror_mode": {
    "name": "ipython",
    "version": 3
   },
   "file_extension": ".py",
   "mimetype": "text/x-python",
   "name": "python",
   "nbconvert_exporter": "python",
   "pygments_lexer": "ipython3",
   "version": "3.11.12"
  },
  "vscode": {
   "interpreter": {
    "hash": "31f2aee4e71d21fbe5cf8b01ff0e069b9275f58929596ceb00d14d90e3e16cd6"
   }
  }
 },
 "nbformat": 4,
 "nbformat_minor": 4
}
